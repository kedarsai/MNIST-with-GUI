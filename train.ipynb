{
 "cells": [
  {
   "cell_type": "code",
   "execution_count": 7,
   "metadata": {},
   "outputs": [
    {
     "name": "stdout",
     "output_type": "stream",
     "text": [
      "x_train shape: (60000, 28, 28, 1)\n",
      "60000 train samples\n",
      "10000 test samples\n",
      "Epoch 1/12\n",
      "469/469 [==============================] - 11s 22ms/step - loss: 2.2910 - accuracy: 0.1205 - val_loss: 2.2481 - val_accuracy: 0.2594\n",
      "Epoch 2/12\n",
      "469/469 [==============================] - 10s 22ms/step - loss: 2.2234 - accuracy: 0.2456 - val_loss: 2.1686 - val_accuracy: 0.4129\n",
      "Epoch 3/12\n",
      "469/469 [==============================] - 11s 23ms/step - loss: 2.1401 - accuracy: 0.3475 - val_loss: 2.0629 - val_accuracy: 0.5714\n",
      "Epoch 4/12\n",
      "469/469 [==============================] - 10s 22ms/step - loss: 2.0332 - accuracy: 0.4278 - val_loss: 1.9257 - val_accuracy: 0.6539\n",
      "Epoch 5/12\n",
      "469/469 [==============================] - 11s 22ms/step - loss: 1.8928 - accuracy: 0.4980 - val_loss: 1.7515 - val_accuracy: 0.7134cy: 0.49 - ETA: 0s - loss: 1.8\n",
      "Epoch 6/12\n",
      "469/469 [==============================] - 10s 22ms/step - loss: 1.7297 - accuracy: 0.5547 - val_loss: 1.5511 - val_accuracy: 0.7520\n",
      "Epoch 7/12\n",
      "469/469 [==============================] - 10s 22ms/step - loss: 1.5581 - accuracy: 0.5957 - val_loss: 1.3449 - val_accuracy: 0.7801\n",
      "Epoch 8/12\n",
      "469/469 [==============================] - 10s 22ms/step - loss: 1.3934 - accuracy: 0.6275 - val_loss: 1.1589 - val_accuracy: 0.7979\n",
      "Epoch 9/12\n",
      "469/469 [==============================] - 10s 22ms/step - loss: 1.2511 - accuracy: 0.6571 - val_loss: 1.0047 - val_accuracy: 0.8144\n",
      "Epoch 10/12\n",
      "469/469 [==============================] - 10s 22ms/step - loss: 1.1390 - accuracy: 0.6768 - val_loss: 0.8851 - val_accuracy: 0.82440s - loss: 1.143\n",
      "Epoch 11/12\n",
      "469/469 [==============================] - 10s 22ms/step - loss: 1.0503 - accuracy: 0.6974 - val_loss: 0.7931 - val_accuracy: 0.8348\n",
      "Epoch 12/12\n",
      "469/469 [==============================] - 10s 22ms/step - loss: 0.9748 - accuracy: 0.7151 - val_loss: 0.7207 - val_accuracy: 0.8428\n",
      "Test loss: 0.7207136750221252\n",
      "Test accuracy: 0.8428000211715698\n"
     ]
    }
   ],
   "source": [
    "from __future__ import print_function\n",
    "import keras\n",
    "from keras.datasets import mnist\n",
    "from keras.models import Sequential\n",
    "from keras.layers import Dense, Dropout, Flatten\n",
    "from keras.layers import Conv2D, MaxPooling2D\n",
    "from tensorflow.keras import backend as K\n",
    "\n",
    "\n",
    "batch_size = 128\n",
    "num_classes = 10\n",
    "epochs = 12\n",
    "# input image dimensions\n",
    "img_rows, img_cols = 28, 28\n",
    "# the data, split between train and test sets\n",
    "(x_train, y_train), (x_test, y_test) = mnist.load_data()\n",
    "\n",
    "\n",
    "import requests\n",
    "requests.packages.urllib3.disable_warnings()\n",
    "import ssl\n",
    "try:\n",
    "   _create_unverified_https_context = ssl._create_unverified_context\n",
    "except AttributeError:\n",
    "   # Legacy Python that doesn't verify HTTPS certificates by default\n",
    "   pass\n",
    "else:\n",
    "   # Handle target environment that doesn't support HTTPS verification\n",
    "   ssl._create_default_https_context = _create_unverified_https_context\n",
    "\n",
    "\n",
    "if K.image_data_format() == 'channels_first':\n",
    "    x_train = x_train.reshape(x_train.shape[0], 1, img_rows, img_cols)\n",
    "    x_test = x_test.reshape(x_test.shape[0], 1, img_rows, img_cols)\n",
    "    input_shape = (1, img_rows, img_cols)\n",
    "else:\n",
    "    x_train = x_train.reshape(x_train.shape[0], img_rows, img_cols, 1)\n",
    "    x_test = x_test.reshape(x_test.shape[0], img_rows, img_cols, 1)\n",
    "    input_shape = (img_rows, img_cols, 1)\n",
    "x_train = x_train.astype('float32')\n",
    "x_test = x_test.astype('float32')\n",
    "x_train /= 255\n",
    "x_test /= 255\n",
    "print('x_train shape:', x_train.shape)\n",
    "print(x_train.shape[0], 'train samples')\n",
    "print(x_test.shape[0], 'test samples')\n",
    "\n",
    "\n",
    "# convert class vectors to binary class matrices\n",
    "y_train = keras.utils.to_categorical(y_train, num_classes)\n",
    "y_test = keras.utils.to_categorical(y_test, num_classes)\n",
    "\n",
    "\n",
    "model = Sequential()\n",
    "model.add(Conv2D(32, kernel_size=(3, 3),\n",
    "                 activation='relu',\n",
    "                 input_shape=input_shape))\n",
    "model.add(Conv2D(64, (3, 3), activation='relu'))\n",
    "model.add(MaxPooling2D(pool_size=(2, 2)))\n",
    "model.add(Dropout(0.25))\n",
    "model.add(Flatten())\n",
    "model.add(Dense(128, activation='relu'))\n",
    "model.add(Dropout(0.5))\n",
    "model.add(Dense(num_classes, activation='softmax'))\n",
    "model.compile(loss=keras.losses.categorical_crossentropy,\n",
    "              optimizer=keras.optimizers.Adadelta(),\n",
    "              metrics=['accuracy'],run_eagerly=True)\n",
    "model.fit(x_train, y_train,\n",
    "          batch_size=batch_size,\n",
    "          epochs=epochs,\n",
    "          verbose=1,\n",
    "          validation_data=(x_test, y_test))\n",
    "\n",
    "\n",
    "score = model.evaluate(x_test, y_test, verbose=0)\n",
    "print('Test loss:', score[0])\n",
    "print('Test accuracy:', score[1])\n",
    "\n",
    "\n",
    "# model_json = model.to_json()\n",
    "# with open(\"model.json\", \"w\") as json_file:\n",
    "#   json_file.write(model.json)\n",
    "# model.save_weights(\"model.h5\")\n",
    "\n",
    "# model3.save_weights('MNIST.h5')\n",
    "# model_json = model3.to_json()\n",
    "# # with open(\"model_json\", \"w\") as json_file:\n",
    "# #   json_file.write(model.json)\n",
    "# # json_file.write(model_json)\n",
    "\n",
    "# with open('model3.json', 'w') as json_file:\n",
    "#     json_file.write(model.json)"
   ]
  },
  {
   "cell_type": "code",
   "execution_count": 2,
   "metadata": {},
   "outputs": [
    {
     "ename": "AttributeError",
     "evalue": "'Sequential' object has no attribute 'json'",
     "output_type": "error",
     "traceback": [
      "\u001b[1;31m---------------------------------------------------------------------------\u001b[0m",
      "\u001b[1;31mAttributeError\u001b[0m                            Traceback (most recent call last)",
      "\u001b[1;32m<ipython-input-2-3c42ab85d7b1>\u001b[0m in \u001b[0;36m<module>\u001b[1;34m\u001b[0m\n\u001b[0;32m      1\u001b[0m \u001b[0mmodel_json\u001b[0m \u001b[1;33m=\u001b[0m \u001b[0mmodel\u001b[0m\u001b[1;33m.\u001b[0m\u001b[0mto_json\u001b[0m\u001b[1;33m(\u001b[0m\u001b[1;33m)\u001b[0m\u001b[1;33m\u001b[0m\u001b[1;33m\u001b[0m\u001b[0m\n\u001b[0;32m      2\u001b[0m \u001b[1;32mwith\u001b[0m \u001b[0mopen\u001b[0m\u001b[1;33m(\u001b[0m\u001b[1;34m\"model.json\"\u001b[0m\u001b[1;33m,\u001b[0m \u001b[1;34m\"w\"\u001b[0m\u001b[1;33m)\u001b[0m \u001b[1;32mas\u001b[0m \u001b[0mjson_file\u001b[0m\u001b[1;33m:\u001b[0m\u001b[1;33m\u001b[0m\u001b[1;33m\u001b[0m\u001b[0m\n\u001b[1;32m----> 3\u001b[1;33m   \u001b[0mjson_file\u001b[0m\u001b[1;33m.\u001b[0m\u001b[0mwrite\u001b[0m\u001b[1;33m(\u001b[0m\u001b[0mmodel\u001b[0m\u001b[1;33m.\u001b[0m\u001b[0mjson\u001b[0m\u001b[1;33m)\u001b[0m\u001b[1;33m\u001b[0m\u001b[1;33m\u001b[0m\u001b[0m\n\u001b[0m\u001b[0;32m      4\u001b[0m \u001b[0mmodel\u001b[0m\u001b[1;33m.\u001b[0m\u001b[0msave_weights\u001b[0m\u001b[1;33m(\u001b[0m\u001b[1;34m\"model.h5\"\u001b[0m\u001b[1;33m)\u001b[0m\u001b[1;33m\u001b[0m\u001b[1;33m\u001b[0m\u001b[0m\n\u001b[0;32m      5\u001b[0m \u001b[1;33m\u001b[0m\u001b[0m\n",
      "\u001b[1;31mAttributeError\u001b[0m: 'Sequential' object has no attribute 'json'"
     ]
    }
   ],
   "source": [
    "# model_json = model.to_json()\n",
    "# with open(\"model.json\", \"w\") as json_file:\n",
    "#   json_file.write(model.json)\n",
    "# model.save_weights(\"model.h5\")\n",
    "\n",
    "\n",
    "# model3.save_weights('MNIST.h5')\n",
    "# model_json = model3.to_json()\n",
    "# # with open(\"model_json\", \"w\") as json_file:\n",
    "# #   json_file.write(model.json)\n",
    "# # json_file.write(model_json)\n",
    "\n",
    "# with open('model3.json', 'w') as json_file:\n",
    "#     json_file.write(model_json)"
   ]
  },
  {
   "cell_type": "code",
   "execution_count": 8,
   "metadata": {},
   "outputs": [],
   "source": [
    "model.save_weights('model.h5')\n",
    "with open('model.json', 'w') as f:\n",
    "    f.write(model.to_json())"
   ]
  },
  {
   "cell_type": "code",
   "execution_count": 6,
   "metadata": {},
   "outputs": [],
   "source": [
    "K.clear_session()"
   ]
  },
  {
   "cell_type": "code",
   "execution_count": null,
   "metadata": {},
   "outputs": [],
   "source": [
    "model.predict()"
   ]
  }
 ],
 "metadata": {
  "kernelspec": {
   "display_name": "Python 3.7 (tensorflow)",
   "language": "python",
   "name": "tensorflow"
  },
  "language_info": {
   "codemirror_mode": {
    "name": "ipython",
    "version": 3
   },
   "file_extension": ".py",
   "mimetype": "text/x-python",
   "name": "python",
   "nbconvert_exporter": "python",
   "pygments_lexer": "ipython3",
   "version": "3.7.7"
  }
 },
 "nbformat": 4,
 "nbformat_minor": 4
}
